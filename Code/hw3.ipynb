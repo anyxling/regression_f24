{
 "cells": [
  {
   "cell_type": "code",
   "execution_count": 1,
   "metadata": {},
   "outputs": [],
   "source": [
    "import numpy as np\n",
    "import pandas as pd\n",
    "import statsmodels.formula.api as smf\n",
    "import statsmodels.api as sm"
   ]
  },
  {
   "cell_type": "code",
   "execution_count": 2,
   "metadata": {},
   "outputs": [
    {
     "data": {
      "text/plain": [
       "array([33.93210327,  2.7847614 , -0.26441893])"
      ]
     },
     "execution_count": 2,
     "metadata": {},
     "output_type": "execute_result"
    }
   ],
   "source": [
    "X = np.array([\n",
    "    [1, 7, 33],\n",
    "    [1, 4, 41],\n",
    "    [1, 16, 7],\n",
    "    [1, 3, 49],\n",
    "    [1, 21, 5],\n",
    "    [1, 8, 31]\n",
    "])\n",
    "y = np.array([42, 33, 75, 28, 91, 55])\n",
    "XT = X.T\n",
    "XT_X = np.dot(XT, X)\n",
    "XT_X_inv = np.linalg.inv(XT_X)\n",
    "XT_y = np.dot(XT, y)\n",
    "beta_hat = np.dot(XT_X_inv, XT_y)\n",
    "beta_hat\n"
   ]
  },
  {
   "cell_type": "code",
   "execution_count": 3,
   "metadata": {},
   "outputs": [
    {
     "data": {
      "text/plain": [
       "(3, 3)"
      ]
     },
     "execution_count": 3,
     "metadata": {},
     "output_type": "execute_result"
    }
   ],
   "source": [
    "XT_X.shape"
   ]
  },
  {
   "cell_type": "code",
   "execution_count": 4,
   "metadata": {},
   "outputs": [
    {
     "data": {
      "text/plain": [
       "array([[ 0.23143293,  0.25167585,  0.21178735,  0.14886839, -0.05475543,\n",
       "         0.21099091],\n",
       "       [ 0.25167585,  0.31240459,  0.09437844,  0.26627729, -0.14787283,\n",
       "         0.22313666],\n",
       "       [ 0.21178735,  0.09437844,  0.70442026, -0.31917435,  0.10446672,\n",
       "         0.20412159],\n",
       "       [ 0.14886839,  0.26627729, -0.31917435,  0.61425632,  0.14143492,\n",
       "         0.14833743],\n",
       "       [-0.05475543, -0.14787283,  0.10446672,  0.14143492,  0.94039955,\n",
       "         0.01632707],\n",
       "       [ 0.21099091,  0.22313666,  0.20412159,  0.14833743,  0.01632707,\n",
       "         0.19708635]])"
      ]
     },
     "execution_count": 4,
     "metadata": {},
     "output_type": "execute_result"
    }
   ],
   "source": [
    "H = np.dot(np.dot(X, XT_X_inv), XT)\n",
    "H"
   ]
  },
  {
   "cell_type": "code",
   "execution_count": 5,
   "metadata": {},
   "outputs": [
    {
     "data": {
      "text/plain": [
       "array([-2.69960842, -1.22997279, -1.63735316, -1.32985996, -0.08999801,\n",
       "        6.98679233])"
      ]
     },
     "execution_count": 5,
     "metadata": {},
     "output_type": "execute_result"
    }
   ],
   "source": [
    "n = H.shape[0]\n",
    "I = np.eye(n)\n",
    "I_minus_H = I - H\n",
    "e = np.dot(I_minus_H, y)\n",
    "e"
   ]
  },
  {
   "cell_type": "code",
   "execution_count": 6,
   "metadata": {},
   "outputs": [
    {
     "data": {
      "text/plain": [
       "62.07353819605439"
      ]
     },
     "execution_count": 6,
     "metadata": {},
     "output_type": "execute_result"
    }
   ],
   "source": [
    "SSE = np.dot(e.T, e)\n",
    "SSE"
   ]
  },
  {
   "cell_type": "code",
   "execution_count": 7,
   "metadata": {},
   "outputs": [
    {
     "data": {
      "text/plain": [
       "array([[ 7.15471135e+02, -3.41589166e+01, -1.35949371e+01],\n",
       "       [-3.41589166e+01,  1.66166636e+00,  6.44067375e-01],\n",
       "       [-1.35949371e+01,  6.44067375e-01,  2.62467755e-01]])"
      ]
     },
     "execution_count": 7,
     "metadata": {},
     "output_type": "execute_result"
    }
   ],
   "source": [
    "n = len(y)\n",
    "p = X.shape[1]\n",
    "sigma_squared = SSE / (n - p)\n",
    "var_beta_hat = sigma_squared * XT_X_inv\n",
    "var_beta_hat"
   ]
  },
  {
   "cell_type": "code",
   "execution_count": 8,
   "metadata": {},
   "outputs": [
    {
     "data": {
      "text/plain": [
       "array([53.8471494])"
      ]
     },
     "execution_count": 8,
     "metadata": {},
     "output_type": "execute_result"
    }
   ],
   "source": [
    "xh = np.array([1, 10, 30]).reshape(1, -1)\n",
    "yh = np.dot(xh, beta_hat)\n",
    "yh"
   ]
  },
  {
   "cell_type": "code",
   "execution_count": 9,
   "metadata": {},
   "outputs": [
    {
     "data": {
      "text/plain": [
       "(1, 3)"
      ]
     },
     "execution_count": 9,
     "metadata": {},
     "output_type": "execute_result"
    }
   ],
   "source": [
    "xh.shape"
   ]
  },
  {
   "cell_type": "code",
   "execution_count": 10,
   "metadata": {},
   "outputs": [
    {
     "data": {
      "text/plain": [
       "array([[5.4246197]])"
      ]
     },
     "execution_count": 10,
     "metadata": {},
     "output_type": "execute_result"
    }
   ],
   "source": [
    "xht = xh.T\n",
    "var_yh = sigma_squared*(xh @ XT_X_inv @ xht)\n",
    "var_yh"
   ]
  },
  {
   "cell_type": "code",
   "execution_count": 11,
   "metadata": {},
   "outputs": [
    {
     "data": {
      "text/plain": [
       "array([[5.4246197]])"
      ]
     },
     "execution_count": 11,
     "metadata": {},
     "output_type": "execute_result"
    }
   ],
   "source": [
    "var_yh2 = sigma_squared * np.dot(np.dot(xh, XT_X_inv), xht)\n",
    "var_yh2"
   ]
  },
  {
   "cell_type": "code",
   "execution_count": 12,
   "metadata": {},
   "outputs": [
    {
     "data": {
      "text/html": [
       "<div>\n",
       "<style scoped>\n",
       "    .dataframe tbody tr th:only-of-type {\n",
       "        vertical-align: middle;\n",
       "    }\n",
       "\n",
       "    .dataframe tbody tr th {\n",
       "        vertical-align: top;\n",
       "    }\n",
       "\n",
       "    .dataframe thead th {\n",
       "        text-align: right;\n",
       "    }\n",
       "</style>\n",
       "<table border=\"1\" class=\"dataframe\">\n",
       "  <thead>\n",
       "    <tr style=\"text-align: right;\">\n",
       "      <th></th>\n",
       "      <th>age</th>\n",
       "      <th>sex</th>\n",
       "      <th>bmi</th>\n",
       "      <th>children</th>\n",
       "      <th>smoker</th>\n",
       "      <th>region</th>\n",
       "      <th>charges</th>\n",
       "    </tr>\n",
       "  </thead>\n",
       "  <tbody>\n",
       "    <tr>\n",
       "      <th>0</th>\n",
       "      <td>19</td>\n",
       "      <td>female</td>\n",
       "      <td>27.900</td>\n",
       "      <td>0</td>\n",
       "      <td>yes</td>\n",
       "      <td>southwest</td>\n",
       "      <td>16884.92400</td>\n",
       "    </tr>\n",
       "    <tr>\n",
       "      <th>1</th>\n",
       "      <td>18</td>\n",
       "      <td>male</td>\n",
       "      <td>33.770</td>\n",
       "      <td>1</td>\n",
       "      <td>no</td>\n",
       "      <td>southeast</td>\n",
       "      <td>1725.55230</td>\n",
       "    </tr>\n",
       "    <tr>\n",
       "      <th>2</th>\n",
       "      <td>28</td>\n",
       "      <td>male</td>\n",
       "      <td>33.000</td>\n",
       "      <td>3</td>\n",
       "      <td>no</td>\n",
       "      <td>southeast</td>\n",
       "      <td>4449.46200</td>\n",
       "    </tr>\n",
       "    <tr>\n",
       "      <th>3</th>\n",
       "      <td>33</td>\n",
       "      <td>male</td>\n",
       "      <td>22.705</td>\n",
       "      <td>0</td>\n",
       "      <td>no</td>\n",
       "      <td>northwest</td>\n",
       "      <td>21984.47061</td>\n",
       "    </tr>\n",
       "    <tr>\n",
       "      <th>4</th>\n",
       "      <td>32</td>\n",
       "      <td>male</td>\n",
       "      <td>28.880</td>\n",
       "      <td>0</td>\n",
       "      <td>no</td>\n",
       "      <td>northwest</td>\n",
       "      <td>3866.85520</td>\n",
       "    </tr>\n",
       "  </tbody>\n",
       "</table>\n",
       "</div>"
      ],
      "text/plain": [
       "   age     sex     bmi  children smoker     region      charges\n",
       "0   19  female  27.900         0    yes  southwest  16884.92400\n",
       "1   18    male  33.770         1     no  southeast   1725.55230\n",
       "2   28    male  33.000         3     no  southeast   4449.46200\n",
       "3   33    male  22.705         0     no  northwest  21984.47061\n",
       "4   32    male  28.880         0     no  northwest   3866.85520"
      ]
     },
     "execution_count": 12,
     "metadata": {},
     "output_type": "execute_result"
    }
   ],
   "source": [
    "insurance = pd.read_csv('../data/insurance.csv')\n",
    "insurance.head()"
   ]
  },
  {
   "cell_type": "code",
   "execution_count": 13,
   "metadata": {},
   "outputs": [
    {
     "data": {
      "text/html": [
       "<table class=\"simpletable\">\n",
       "<caption>OLS Regression Results</caption>\n",
       "<tr>\n",
       "  <th>Dep. Variable:</th>         <td>charges</td>     <th>  R-squared:         </th> <td>   0.120</td> \n",
       "</tr>\n",
       "<tr>\n",
       "  <th>Model:</th>                   <td>OLS</td>       <th>  Adj. R-squared:    </th> <td>   0.118</td> \n",
       "</tr>\n",
       "<tr>\n",
       "  <th>Method:</th>             <td>Least Squares</td>  <th>  F-statistic:       </th> <td>   60.69</td> \n",
       "</tr>\n",
       "<tr>\n",
       "  <th>Date:</th>             <td>Thu, 19 Sep 2024</td> <th>  Prob (F-statistic):</th> <td>8.80e-37</td> \n",
       "</tr>\n",
       "<tr>\n",
       "  <th>Time:</th>                 <td>20:36:51</td>     <th>  Log-Likelihood:    </th> <td> -14392.</td> \n",
       "</tr>\n",
       "<tr>\n",
       "  <th>No. Observations:</th>      <td>  1338</td>      <th>  AIC:               </th> <td>2.879e+04</td>\n",
       "</tr>\n",
       "<tr>\n",
       "  <th>Df Residuals:</th>          <td>  1334</td>      <th>  BIC:               </th> <td>2.881e+04</td>\n",
       "</tr>\n",
       "<tr>\n",
       "  <th>Df Model:</th>              <td>     3</td>      <th>                     </th>     <td> </td>    \n",
       "</tr>\n",
       "<tr>\n",
       "  <th>Covariance Type:</th>      <td>nonrobust</td>    <th>                     </th>     <td> </td>    \n",
       "</tr>\n",
       "</table>\n",
       "<table class=\"simpletable\">\n",
       "<tr>\n",
       "      <td></td>         <th>coef</th>     <th>std err</th>      <th>t</th>      <th>P>|t|</th>  <th>[0.025</th>    <th>0.975]</th>  \n",
       "</tr>\n",
       "<tr>\n",
       "  <th>Intercept</th> <td>-6916.2433</td> <td> 1757.480</td> <td>   -3.935</td> <td> 0.000</td> <td>-1.04e+04</td> <td>-3468.518</td>\n",
       "</tr>\n",
       "<tr>\n",
       "  <th>age</th>       <td>  239.9945</td> <td>   22.289</td> <td>   10.767</td> <td> 0.000</td> <td>  196.269</td> <td>  283.720</td>\n",
       "</tr>\n",
       "<tr>\n",
       "  <th>bmi</th>       <td>  332.0834</td> <td>   51.310</td> <td>    6.472</td> <td> 0.000</td> <td>  231.425</td> <td>  432.741</td>\n",
       "</tr>\n",
       "<tr>\n",
       "  <th>children</th>  <td>  542.8647</td> <td>  258.241</td> <td>    2.102</td> <td> 0.036</td> <td>   36.261</td> <td> 1049.468</td>\n",
       "</tr>\n",
       "</table>\n",
       "<table class=\"simpletable\">\n",
       "<tr>\n",
       "  <th>Omnibus:</th>       <td>325.395</td> <th>  Durbin-Watson:     </th> <td>   2.012</td> \n",
       "</tr>\n",
       "<tr>\n",
       "  <th>Prob(Omnibus):</th> <td> 0.000</td>  <th>  Jarque-Bera (JB):  </th> <td> 603.372</td> \n",
       "</tr>\n",
       "<tr>\n",
       "  <th>Skew:</th>          <td> 1.520</td>  <th>  Prob(JB):          </th> <td>9.54e-132</td>\n",
       "</tr>\n",
       "<tr>\n",
       "  <th>Kurtosis:</th>      <td> 4.255</td>  <th>  Cond. No.          </th> <td>    290.</td> \n",
       "</tr>\n",
       "</table><br/><br/>Notes:<br/>[1] Standard Errors assume that the covariance matrix of the errors is correctly specified."
      ],
      "text/latex": [
       "\\begin{center}\n",
       "\\begin{tabular}{lclc}\n",
       "\\toprule\n",
       "\\textbf{Dep. Variable:}    &     charges      & \\textbf{  R-squared:         } &     0.120   \\\\\n",
       "\\textbf{Model:}            &       OLS        & \\textbf{  Adj. R-squared:    } &     0.118   \\\\\n",
       "\\textbf{Method:}           &  Least Squares   & \\textbf{  F-statistic:       } &     60.69   \\\\\n",
       "\\textbf{Date:}             & Thu, 19 Sep 2024 & \\textbf{  Prob (F-statistic):} &  8.80e-37   \\\\\n",
       "\\textbf{Time:}             &     20:36:51     & \\textbf{  Log-Likelihood:    } &   -14392.   \\\\\n",
       "\\textbf{No. Observations:} &        1338      & \\textbf{  AIC:               } & 2.879e+04   \\\\\n",
       "\\textbf{Df Residuals:}     &        1334      & \\textbf{  BIC:               } & 2.881e+04   \\\\\n",
       "\\textbf{Df Model:}         &           3      & \\textbf{                     } &             \\\\\n",
       "\\textbf{Covariance Type:}  &    nonrobust     & \\textbf{                     } &             \\\\\n",
       "\\bottomrule\n",
       "\\end{tabular}\n",
       "\\begin{tabular}{lcccccc}\n",
       "                   & \\textbf{coef} & \\textbf{std err} & \\textbf{t} & \\textbf{P$> |$t$|$} & \\textbf{[0.025} & \\textbf{0.975]}  \\\\\n",
       "\\midrule\n",
       "\\textbf{Intercept} &   -6916.2433  &     1757.480     &    -3.935  &         0.000        &    -1.04e+04    &    -3468.518     \\\\\n",
       "\\textbf{age}       &     239.9945  &       22.289     &    10.767  &         0.000        &      196.269    &      283.720     \\\\\n",
       "\\textbf{bmi}       &     332.0834  &       51.310     &     6.472  &         0.000        &      231.425    &      432.741     \\\\\n",
       "\\textbf{children}  &     542.8647  &      258.241     &     2.102  &         0.036        &       36.261    &     1049.468     \\\\\n",
       "\\bottomrule\n",
       "\\end{tabular}\n",
       "\\begin{tabular}{lclc}\n",
       "\\textbf{Omnibus:}       & 325.395 & \\textbf{  Durbin-Watson:     } &     2.012  \\\\\n",
       "\\textbf{Prob(Omnibus):} &   0.000 & \\textbf{  Jarque-Bera (JB):  } &   603.372  \\\\\n",
       "\\textbf{Skew:}          &   1.520 & \\textbf{  Prob(JB):          } & 9.54e-132  \\\\\n",
       "\\textbf{Kurtosis:}      &   4.255 & \\textbf{  Cond. No.          } &      290.  \\\\\n",
       "\\bottomrule\n",
       "\\end{tabular}\n",
       "%\\caption{OLS Regression Results}\n",
       "\\end{center}\n",
       "\n",
       "Notes: \\newline\n",
       " [1] Standard Errors assume that the covariance matrix of the errors is correctly specified."
      ],
      "text/plain": [
       "<class 'statsmodels.iolib.summary.Summary'>\n",
       "\"\"\"\n",
       "                            OLS Regression Results                            \n",
       "==============================================================================\n",
       "Dep. Variable:                charges   R-squared:                       0.120\n",
       "Model:                            OLS   Adj. R-squared:                  0.118\n",
       "Method:                 Least Squares   F-statistic:                     60.69\n",
       "Date:                Thu, 19 Sep 2024   Prob (F-statistic):           8.80e-37\n",
       "Time:                        20:36:51   Log-Likelihood:                -14392.\n",
       "No. Observations:                1338   AIC:                         2.879e+04\n",
       "Df Residuals:                    1334   BIC:                         2.881e+04\n",
       "Df Model:                           3                                         \n",
       "Covariance Type:            nonrobust                                         \n",
       "==============================================================================\n",
       "                 coef    std err          t      P>|t|      [0.025      0.975]\n",
       "------------------------------------------------------------------------------\n",
       "Intercept  -6916.2433   1757.480     -3.935      0.000   -1.04e+04   -3468.518\n",
       "age          239.9945     22.289     10.767      0.000     196.269     283.720\n",
       "bmi          332.0834     51.310      6.472      0.000     231.425     432.741\n",
       "children     542.8647    258.241      2.102      0.036      36.261    1049.468\n",
       "==============================================================================\n",
       "Omnibus:                      325.395   Durbin-Watson:                   2.012\n",
       "Prob(Omnibus):                  0.000   Jarque-Bera (JB):              603.372\n",
       "Skew:                           1.520   Prob(JB):                    9.54e-132\n",
       "Kurtosis:                       4.255   Cond. No.                         290.\n",
       "==============================================================================\n",
       "\n",
       "Notes:\n",
       "[1] Standard Errors assume that the covariance matrix of the errors is correctly specified.\n",
       "\"\"\""
      ]
     },
     "execution_count": 13,
     "metadata": {},
     "output_type": "execute_result"
    }
   ],
   "source": [
    "reg = smf.ols('charges~age+bmi+children',data=insurance).fit()\n",
    "reg.summary()"
   ]
  },
  {
   "cell_type": "code",
   "execution_count": 14,
   "metadata": {},
   "outputs": [
    {
     "data": {
      "text/html": [
       "<div>\n",
       "<style scoped>\n",
       "    .dataframe tbody tr th:only-of-type {\n",
       "        vertical-align: middle;\n",
       "    }\n",
       "\n",
       "    .dataframe tbody tr th {\n",
       "        vertical-align: top;\n",
       "    }\n",
       "\n",
       "    .dataframe thead th {\n",
       "        text-align: right;\n",
       "    }\n",
       "</style>\n",
       "<table border=\"1\" class=\"dataframe\">\n",
       "  <thead>\n",
       "    <tr style=\"text-align: right;\">\n",
       "      <th></th>\n",
       "      <th>df</th>\n",
       "      <th>sum_sq</th>\n",
       "      <th>mean_sq</th>\n",
       "      <th>F</th>\n",
       "      <th>PR(&gt;F)</th>\n",
       "    </tr>\n",
       "  </thead>\n",
       "  <tbody>\n",
       "    <tr>\n",
       "      <th>age</th>\n",
       "      <td>1.0</td>\n",
       "      <td>1.753019e+10</td>\n",
       "      <td>1.753019e+10</td>\n",
       "      <td>135.546341</td>\n",
       "      <td>6.627851e-30</td>\n",
       "    </tr>\n",
       "    <tr>\n",
       "      <th>bmi</th>\n",
       "      <td>1.0</td>\n",
       "      <td>5.446449e+09</td>\n",
       "      <td>5.446449e+09</td>\n",
       "      <td>42.112843</td>\n",
       "      <td>1.211545e-10</td>\n",
       "    </tr>\n",
       "    <tr>\n",
       "      <th>children</th>\n",
       "      <td>1.0</td>\n",
       "      <td>5.715190e+08</td>\n",
       "      <td>5.715190e+08</td>\n",
       "      <td>4.419080</td>\n",
       "      <td>3.572625e-02</td>\n",
       "    </tr>\n",
       "    <tr>\n",
       "      <th>Residual</th>\n",
       "      <td>1334.0</td>\n",
       "      <td>1.725261e+11</td>\n",
       "      <td>1.293299e+08</td>\n",
       "      <td>NaN</td>\n",
       "      <td>NaN</td>\n",
       "    </tr>\n",
       "  </tbody>\n",
       "</table>\n",
       "</div>"
      ],
      "text/plain": [
       "              df        sum_sq       mean_sq           F        PR(>F)\n",
       "age          1.0  1.753019e+10  1.753019e+10  135.546341  6.627851e-30\n",
       "bmi          1.0  5.446449e+09  5.446449e+09   42.112843  1.211545e-10\n",
       "children     1.0  5.715190e+08  5.715190e+08    4.419080  3.572625e-02\n",
       "Residual  1334.0  1.725261e+11  1.293299e+08         NaN           NaN"
      ]
     },
     "execution_count": 14,
     "metadata": {},
     "output_type": "execute_result"
    }
   ],
   "source": [
    "sm.stats.anova_lm(reg, typ=1)"
   ]
  },
  {
   "cell_type": "code",
   "execution_count": 15,
   "metadata": {},
   "outputs": [
    {
     "data": {
      "text/html": [
       "<div>\n",
       "<style scoped>\n",
       "    .dataframe tbody tr th:only-of-type {\n",
       "        vertical-align: middle;\n",
       "    }\n",
       "\n",
       "    .dataframe tbody tr th {\n",
       "        vertical-align: top;\n",
       "    }\n",
       "\n",
       "    .dataframe thead th {\n",
       "        text-align: right;\n",
       "    }\n",
       "</style>\n",
       "<table border=\"1\" class=\"dataframe\">\n",
       "  <thead>\n",
       "    <tr style=\"text-align: right;\">\n",
       "      <th></th>\n",
       "      <th>sum_sq</th>\n",
       "      <th>df</th>\n",
       "      <th>F</th>\n",
       "      <th>PR(&gt;F)</th>\n",
       "    </tr>\n",
       "  </thead>\n",
       "  <tbody>\n",
       "    <tr>\n",
       "      <th>age</th>\n",
       "      <td>1.499426e+10</td>\n",
       "      <td>1.0</td>\n",
       "      <td>115.938067</td>\n",
       "      <td>5.533923e-26</td>\n",
       "    </tr>\n",
       "    <tr>\n",
       "      <th>bmi</th>\n",
       "      <td>5.417280e+09</td>\n",
       "      <td>1.0</td>\n",
       "      <td>41.887301</td>\n",
       "      <td>1.354882e-10</td>\n",
       "    </tr>\n",
       "    <tr>\n",
       "      <th>children</th>\n",
       "      <td>5.715190e+08</td>\n",
       "      <td>1.0</td>\n",
       "      <td>4.419080</td>\n",
       "      <td>3.572625e-02</td>\n",
       "    </tr>\n",
       "    <tr>\n",
       "      <th>Residual</th>\n",
       "      <td>1.725261e+11</td>\n",
       "      <td>1334.0</td>\n",
       "      <td>NaN</td>\n",
       "      <td>NaN</td>\n",
       "    </tr>\n",
       "  </tbody>\n",
       "</table>\n",
       "</div>"
      ],
      "text/plain": [
       "                sum_sq      df           F        PR(>F)\n",
       "age       1.499426e+10     1.0  115.938067  5.533923e-26\n",
       "bmi       5.417280e+09     1.0   41.887301  1.354882e-10\n",
       "children  5.715190e+08     1.0    4.419080  3.572625e-02\n",
       "Residual  1.725261e+11  1334.0         NaN           NaN"
      ]
     },
     "execution_count": 15,
     "metadata": {},
     "output_type": "execute_result"
    }
   ],
   "source": [
    "sm.stats.anova_lm(reg, typ=2)"
   ]
  },
  {
   "cell_type": "code",
   "execution_count": 16,
   "metadata": {},
   "outputs": [
    {
     "name": "stderr",
     "output_type": "stream",
     "text": [
      "/var/folders/h0/hz2hnl6s6z710v5lcgqmt9xm0000gn/T/ipykernel_31575/4037816684.py:2: FutureWarning: The 'delim_whitespace' keyword in pd.read_csv is deprecated and will be removed in a future version. Use ``sep='\\s+'`` instead\n",
      "  property = pd.read_csv('../data/property.txt', delim_whitespace=True, header=None, names=column_names)\n"
     ]
    },
    {
     "data": {
      "text/html": [
       "<div>\n",
       "<style scoped>\n",
       "    .dataframe tbody tr th:only-of-type {\n",
       "        vertical-align: middle;\n",
       "    }\n",
       "\n",
       "    .dataframe tbody tr th {\n",
       "        vertical-align: top;\n",
       "    }\n",
       "\n",
       "    .dataframe thead th {\n",
       "        text-align: right;\n",
       "    }\n",
       "</style>\n",
       "<table border=\"1\" class=\"dataframe\">\n",
       "  <thead>\n",
       "    <tr style=\"text-align: right;\">\n",
       "      <th></th>\n",
       "      <th>rental_rates</th>\n",
       "      <th>age</th>\n",
       "      <th>operating_expenses</th>\n",
       "      <th>vacancy_rate</th>\n",
       "      <th>total_square_footage</th>\n",
       "    </tr>\n",
       "  </thead>\n",
       "  <tbody>\n",
       "    <tr>\n",
       "      <th>0</th>\n",
       "      <td>13.50</td>\n",
       "      <td>1</td>\n",
       "      <td>5.02</td>\n",
       "      <td>0.14</td>\n",
       "      <td>123000</td>\n",
       "    </tr>\n",
       "    <tr>\n",
       "      <th>1</th>\n",
       "      <td>12.00</td>\n",
       "      <td>14</td>\n",
       "      <td>8.19</td>\n",
       "      <td>0.27</td>\n",
       "      <td>104079</td>\n",
       "    </tr>\n",
       "    <tr>\n",
       "      <th>2</th>\n",
       "      <td>10.50</td>\n",
       "      <td>16</td>\n",
       "      <td>3.00</td>\n",
       "      <td>0.00</td>\n",
       "      <td>39998</td>\n",
       "    </tr>\n",
       "    <tr>\n",
       "      <th>3</th>\n",
       "      <td>15.00</td>\n",
       "      <td>4</td>\n",
       "      <td>10.70</td>\n",
       "      <td>0.05</td>\n",
       "      <td>57112</td>\n",
       "    </tr>\n",
       "    <tr>\n",
       "      <th>4</th>\n",
       "      <td>14.00</td>\n",
       "      <td>11</td>\n",
       "      <td>8.97</td>\n",
       "      <td>0.07</td>\n",
       "      <td>60000</td>\n",
       "    </tr>\n",
       "    <tr>\n",
       "      <th>...</th>\n",
       "      <td>...</td>\n",
       "      <td>...</td>\n",
       "      <td>...</td>\n",
       "      <td>...</td>\n",
       "      <td>...</td>\n",
       "    </tr>\n",
       "    <tr>\n",
       "      <th>76</th>\n",
       "      <td>14.50</td>\n",
       "      <td>3</td>\n",
       "      <td>10.67</td>\n",
       "      <td>0.00</td>\n",
       "      <td>43404</td>\n",
       "    </tr>\n",
       "    <tr>\n",
       "      <th>77</th>\n",
       "      <td>13.50</td>\n",
       "      <td>18</td>\n",
       "      <td>8.60</td>\n",
       "      <td>0.08</td>\n",
       "      <td>59443</td>\n",
       "    </tr>\n",
       "    <tr>\n",
       "      <th>78</th>\n",
       "      <td>15.00</td>\n",
       "      <td>15</td>\n",
       "      <td>11.97</td>\n",
       "      <td>0.14</td>\n",
       "      <td>254700</td>\n",
       "    </tr>\n",
       "    <tr>\n",
       "      <th>79</th>\n",
       "      <td>15.25</td>\n",
       "      <td>11</td>\n",
       "      <td>11.27</td>\n",
       "      <td>0.03</td>\n",
       "      <td>434746</td>\n",
       "    </tr>\n",
       "    <tr>\n",
       "      <th>80</th>\n",
       "      <td>14.50</td>\n",
       "      <td>14</td>\n",
       "      <td>12.68</td>\n",
       "      <td>0.03</td>\n",
       "      <td>201930</td>\n",
       "    </tr>\n",
       "  </tbody>\n",
       "</table>\n",
       "<p>81 rows × 5 columns</p>\n",
       "</div>"
      ],
      "text/plain": [
       "    rental_rates  age  operating_expenses  vacancy_rate  total_square_footage\n",
       "0          13.50    1                5.02          0.14                123000\n",
       "1          12.00   14                8.19          0.27                104079\n",
       "2          10.50   16                3.00          0.00                 39998\n",
       "3          15.00    4               10.70          0.05                 57112\n",
       "4          14.00   11                8.97          0.07                 60000\n",
       "..           ...  ...                 ...           ...                   ...\n",
       "76         14.50    3               10.67          0.00                 43404\n",
       "77         13.50   18                8.60          0.08                 59443\n",
       "78         15.00   15               11.97          0.14                254700\n",
       "79         15.25   11               11.27          0.03                434746\n",
       "80         14.50   14               12.68          0.03                201930\n",
       "\n",
       "[81 rows x 5 columns]"
      ]
     },
     "execution_count": 16,
     "metadata": {},
     "output_type": "execute_result"
    }
   ],
   "source": [
    "column_names = ['rental_rates', 'age', 'operating_expenses', 'vacancy_rate', 'total_square_footage'] \n",
    "property = pd.read_csv('../data/property.txt', delim_whitespace=True, header=None, names=column_names)\n",
    "property"
   ]
  },
  {
   "cell_type": "code",
   "execution_count": 17,
   "metadata": {},
   "outputs": [
    {
     "data": {
      "text/html": [
       "<table class=\"simpletable\">\n",
       "<caption>OLS Regression Results</caption>\n",
       "<tr>\n",
       "  <th>Dep. Variable:</th>      <td>rental_rates</td>   <th>  R-squared:         </th> <td>   0.585</td>\n",
       "</tr>\n",
       "<tr>\n",
       "  <th>Model:</th>                   <td>OLS</td>       <th>  Adj. R-squared:    </th> <td>   0.563</td>\n",
       "</tr>\n",
       "<tr>\n",
       "  <th>Method:</th>             <td>Least Squares</td>  <th>  F-statistic:       </th> <td>   26.76</td>\n",
       "</tr>\n",
       "<tr>\n",
       "  <th>Date:</th>             <td>Thu, 19 Sep 2024</td> <th>  Prob (F-statistic):</th> <td>7.27e-14</td>\n",
       "</tr>\n",
       "<tr>\n",
       "  <th>Time:</th>                 <td>20:36:51</td>     <th>  Log-Likelihood:    </th> <td> -122.75</td>\n",
       "</tr>\n",
       "<tr>\n",
       "  <th>No. Observations:</th>      <td>    81</td>      <th>  AIC:               </th> <td>   255.5</td>\n",
       "</tr>\n",
       "<tr>\n",
       "  <th>Df Residuals:</th>          <td>    76</td>      <th>  BIC:               </th> <td>   267.5</td>\n",
       "</tr>\n",
       "<tr>\n",
       "  <th>Df Model:</th>              <td>     4</td>      <th>                     </th>     <td> </td>   \n",
       "</tr>\n",
       "<tr>\n",
       "  <th>Covariance Type:</th>      <td>nonrobust</td>    <th>                     </th>     <td> </td>   \n",
       "</tr>\n",
       "</table>\n",
       "<table class=\"simpletable\">\n",
       "<tr>\n",
       "            <td></td>              <th>coef</th>     <th>std err</th>      <th>t</th>      <th>P>|t|</th>  <th>[0.025</th>    <th>0.975]</th>  \n",
       "</tr>\n",
       "<tr>\n",
       "  <th>Intercept</th>            <td>   12.2006</td> <td>    0.578</td> <td>   21.110</td> <td> 0.000</td> <td>   11.049</td> <td>   13.352</td>\n",
       "</tr>\n",
       "<tr>\n",
       "  <th>age</th>                  <td>   -0.1420</td> <td>    0.021</td> <td>   -6.655</td> <td> 0.000</td> <td>   -0.185</td> <td>   -0.100</td>\n",
       "</tr>\n",
       "<tr>\n",
       "  <th>operating_expenses</th>   <td>    0.2820</td> <td>    0.063</td> <td>    4.464</td> <td> 0.000</td> <td>    0.156</td> <td>    0.408</td>\n",
       "</tr>\n",
       "<tr>\n",
       "  <th>vacancy_rate</th>         <td>    0.6193</td> <td>    1.087</td> <td>    0.570</td> <td> 0.570</td> <td>   -1.545</td> <td>    2.784</td>\n",
       "</tr>\n",
       "<tr>\n",
       "  <th>total_square_footage</th> <td> 7.924e-06</td> <td> 1.38e-06</td> <td>    5.722</td> <td> 0.000</td> <td> 5.17e-06</td> <td> 1.07e-05</td>\n",
       "</tr>\n",
       "</table>\n",
       "<table class=\"simpletable\">\n",
       "<tr>\n",
       "  <th>Omnibus:</th>       <td> 1.922</td> <th>  Durbin-Watson:     </th> <td>   1.580</td>\n",
       "</tr>\n",
       "<tr>\n",
       "  <th>Prob(Omnibus):</th> <td> 0.383</td> <th>  Jarque-Bera (JB):  </th> <td>   1.301</td>\n",
       "</tr>\n",
       "<tr>\n",
       "  <th>Skew:</th>          <td> 0.148</td> <th>  Prob(JB):          </th> <td>   0.522</td>\n",
       "</tr>\n",
       "<tr>\n",
       "  <th>Kurtosis:</th>      <td> 3.545</td> <th>  Cond. No.          </th> <td>1.74e+06</td>\n",
       "</tr>\n",
       "</table><br/><br/>Notes:<br/>[1] Standard Errors assume that the covariance matrix of the errors is correctly specified.<br/>[2] The condition number is large, 1.74e+06. This might indicate that there are<br/>strong multicollinearity or other numerical problems."
      ],
      "text/latex": [
       "\\begin{center}\n",
       "\\begin{tabular}{lclc}\n",
       "\\toprule\n",
       "\\textbf{Dep. Variable:}         &  rental\\_rates   & \\textbf{  R-squared:         } &     0.585   \\\\\n",
       "\\textbf{Model:}                 &       OLS        & \\textbf{  Adj. R-squared:    } &     0.563   \\\\\n",
       "\\textbf{Method:}                &  Least Squares   & \\textbf{  F-statistic:       } &     26.76   \\\\\n",
       "\\textbf{Date:}                  & Thu, 19 Sep 2024 & \\textbf{  Prob (F-statistic):} &  7.27e-14   \\\\\n",
       "\\textbf{Time:}                  &     20:36:51     & \\textbf{  Log-Likelihood:    } &   -122.75   \\\\\n",
       "\\textbf{No. Observations:}      &          81      & \\textbf{  AIC:               } &     255.5   \\\\\n",
       "\\textbf{Df Residuals:}          &          76      & \\textbf{  BIC:               } &     267.5   \\\\\n",
       "\\textbf{Df Model:}              &           4      & \\textbf{                     } &             \\\\\n",
       "\\textbf{Covariance Type:}       &    nonrobust     & \\textbf{                     } &             \\\\\n",
       "\\bottomrule\n",
       "\\end{tabular}\n",
       "\\begin{tabular}{lcccccc}\n",
       "                                & \\textbf{coef} & \\textbf{std err} & \\textbf{t} & \\textbf{P$> |$t$|$} & \\textbf{[0.025} & \\textbf{0.975]}  \\\\\n",
       "\\midrule\n",
       "\\textbf{Intercept}              &      12.2006  &        0.578     &    21.110  &         0.000        &       11.049    &       13.352     \\\\\n",
       "\\textbf{age}                    &      -0.1420  &        0.021     &    -6.655  &         0.000        &       -0.185    &       -0.100     \\\\\n",
       "\\textbf{operating\\_expenses}    &       0.2820  &        0.063     &     4.464  &         0.000        &        0.156    &        0.408     \\\\\n",
       "\\textbf{vacancy\\_rate}          &       0.6193  &        1.087     &     0.570  &         0.570        &       -1.545    &        2.784     \\\\\n",
       "\\textbf{total\\_square\\_footage} &    7.924e-06  &     1.38e-06     &     5.722  &         0.000        &     5.17e-06    &     1.07e-05     \\\\\n",
       "\\bottomrule\n",
       "\\end{tabular}\n",
       "\\begin{tabular}{lclc}\n",
       "\\textbf{Omnibus:}       &  1.922 & \\textbf{  Durbin-Watson:     } &    1.580  \\\\\n",
       "\\textbf{Prob(Omnibus):} &  0.383 & \\textbf{  Jarque-Bera (JB):  } &    1.301  \\\\\n",
       "\\textbf{Skew:}          &  0.148 & \\textbf{  Prob(JB):          } &    0.522  \\\\\n",
       "\\textbf{Kurtosis:}      &  3.545 & \\textbf{  Cond. No.          } & 1.74e+06  \\\\\n",
       "\\bottomrule\n",
       "\\end{tabular}\n",
       "%\\caption{OLS Regression Results}\n",
       "\\end{center}\n",
       "\n",
       "Notes: \\newline\n",
       " [1] Standard Errors assume that the covariance matrix of the errors is correctly specified. \\newline\n",
       " [2] The condition number is large, 1.74e+06. This might indicate that there are \\newline\n",
       " strong multicollinearity or other numerical problems."
      ],
      "text/plain": [
       "<class 'statsmodels.iolib.summary.Summary'>\n",
       "\"\"\"\n",
       "                            OLS Regression Results                            \n",
       "==============================================================================\n",
       "Dep. Variable:           rental_rates   R-squared:                       0.585\n",
       "Model:                            OLS   Adj. R-squared:                  0.563\n",
       "Method:                 Least Squares   F-statistic:                     26.76\n",
       "Date:                Thu, 19 Sep 2024   Prob (F-statistic):           7.27e-14\n",
       "Time:                        20:36:51   Log-Likelihood:                -122.75\n",
       "No. Observations:                  81   AIC:                             255.5\n",
       "Df Residuals:                      76   BIC:                             267.5\n",
       "Df Model:                           4                                         \n",
       "Covariance Type:            nonrobust                                         \n",
       "========================================================================================\n",
       "                           coef    std err          t      P>|t|      [0.025      0.975]\n",
       "----------------------------------------------------------------------------------------\n",
       "Intercept               12.2006      0.578     21.110      0.000      11.049      13.352\n",
       "age                     -0.1420      0.021     -6.655      0.000      -0.185      -0.100\n",
       "operating_expenses       0.2820      0.063      4.464      0.000       0.156       0.408\n",
       "vacancy_rate             0.6193      1.087      0.570      0.570      -1.545       2.784\n",
       "total_square_footage  7.924e-06   1.38e-06      5.722      0.000    5.17e-06    1.07e-05\n",
       "==============================================================================\n",
       "Omnibus:                        1.922   Durbin-Watson:                   1.580\n",
       "Prob(Omnibus):                  0.383   Jarque-Bera (JB):                1.301\n",
       "Skew:                           0.148   Prob(JB):                        0.522\n",
       "Kurtosis:                       3.545   Cond. No.                     1.74e+06\n",
       "==============================================================================\n",
       "\n",
       "Notes:\n",
       "[1] Standard Errors assume that the covariance matrix of the errors is correctly specified.\n",
       "[2] The condition number is large, 1.74e+06. This might indicate that there are\n",
       "strong multicollinearity or other numerical problems.\n",
       "\"\"\""
      ]
     },
     "execution_count": 17,
     "metadata": {},
     "output_type": "execute_result"
    }
   ],
   "source": [
    "model =smf.ols('rental_rates~age + operating_expenses + vacancy_rate + total_square_footage',data=property).fit()\n",
    "model.summary()"
   ]
  },
  {
   "cell_type": "code",
   "execution_count": 18,
   "metadata": {},
   "outputs": [
    {
     "data": {
      "text/plain": [
       "0    14.535672\n",
       "1    13.513806\n",
       "2    11.091053\n",
       "3    15.133568\n",
       "4    13.686716\n",
       "5    13.687185\n",
       "dtype: float64"
      ]
     },
     "execution_count": 18,
     "metadata": {},
     "output_type": "execute_result"
    }
   ],
   "source": [
    "yhat = model.fittedvalues.head(6)\n",
    "yhat"
   ]
  },
  {
   "cell_type": "code",
   "execution_count": 19,
   "metadata": {},
   "outputs": [
    {
     "data": {
      "text/plain": [
       "0   -1.035672\n",
       "1   -1.513806\n",
       "2   -0.591053\n",
       "3   -0.133568\n",
       "4    0.313284\n",
       "5   -3.187185\n",
       "dtype: float64"
      ]
     },
     "execution_count": 19,
     "metadata": {},
     "output_type": "execute_result"
    }
   ],
   "source": [
    "res = model.resid.head(6)\n",
    "res"
   ]
  },
  {
   "cell_type": "code",
   "execution_count": 20,
   "metadata": {},
   "outputs": [
    {
     "data": {
      "text/plain": [
       "13.987708188161431"
      ]
     },
     "execution_count": 20,
     "metadata": {},
     "output_type": "execute_result"
    }
   ],
   "source": [
    "sse = sum(res**2)\n",
    "sse"
   ]
  },
  {
   "cell_type": "code",
   "execution_count": 21,
   "metadata": {},
   "outputs": [
    {
     "data": {
      "text/plain": [
       "0.1840487919494925"
      ]
     },
     "execution_count": 21,
     "metadata": {},
     "output_type": "execute_result"
    }
   ],
   "source": [
    "sigma_squared = sse/(81-5)\n",
    "sigma_squared"
   ]
  },
  {
   "cell_type": "code",
   "execution_count": 22,
   "metadata": {},
   "outputs": [
    {
     "data": {
      "text/html": [
       "<div>\n",
       "<style scoped>\n",
       "    .dataframe tbody tr th:only-of-type {\n",
       "        vertical-align: middle;\n",
       "    }\n",
       "\n",
       "    .dataframe tbody tr th {\n",
       "        vertical-align: top;\n",
       "    }\n",
       "\n",
       "    .dataframe thead th {\n",
       "        text-align: right;\n",
       "    }\n",
       "</style>\n",
       "<table border=\"1\" class=\"dataframe\">\n",
       "  <thead>\n",
       "    <tr style=\"text-align: right;\">\n",
       "      <th></th>\n",
       "      <th>mean</th>\n",
       "      <th>mean_se</th>\n",
       "      <th>mean_ci_lower</th>\n",
       "      <th>mean_ci_upper</th>\n",
       "      <th>obs_ci_lower</th>\n",
       "      <th>obs_ci_upper</th>\n",
       "    </tr>\n",
       "  </thead>\n",
       "  <tbody>\n",
       "    <tr>\n",
       "      <th>0</th>\n",
       "      <td>15.148495</td>\n",
       "      <td>0.190898</td>\n",
       "      <td>14.830621</td>\n",
       "      <td>15.46637</td>\n",
       "      <td>13.228907</td>\n",
       "      <td>17.068083</td>\n",
       "    </tr>\n",
       "  </tbody>\n",
       "</table>\n",
       "</div>"
      ],
      "text/plain": [
       "        mean   mean_se  mean_ci_lower  mean_ci_upper  obs_ci_lower  \\\n",
       "0  15.148495  0.190898      14.830621       15.46637     13.228907   \n",
       "\n",
       "   obs_ci_upper  \n",
       "0     17.068083  "
      ]
     },
     "execution_count": 22,
     "metadata": {},
     "output_type": "execute_result"
    }
   ],
   "source": [
    "new_data = pd.DataFrame({'const': [1], \n",
    "                         'age': [4], \n",
    "                         'operating_expenses': [10], \n",
    "                         'vacancy_rate': [0.1], \n",
    "                         'total_square_footage': [80000]})\n",
    "pred_interval = model.get_prediction(new_data).summary_frame(alpha=0.10) \n",
    "pred_interval"
   ]
  }
 ],
 "metadata": {
  "kernelspec": {
   "display_name": "python-general",
   "language": "python",
   "name": "python3"
  },
  "language_info": {
   "codemirror_mode": {
    "name": "ipython",
    "version": 3
   },
   "file_extension": ".py",
   "mimetype": "text/x-python",
   "name": "python",
   "nbconvert_exporter": "python",
   "pygments_lexer": "ipython3",
   "version": "3.12.2"
  }
 },
 "nbformat": 4,
 "nbformat_minor": 2
}
