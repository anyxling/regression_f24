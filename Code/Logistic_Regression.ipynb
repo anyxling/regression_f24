{
 "cells": [
  {
   "cell_type": "code",
   "execution_count": 1,
   "metadata": {},
   "outputs": [],
   "source": [
    "import pandas as pd\n",
    "import numpy as np\n",
    "import statsmodels.api as sm\n",
    "import statsmodels.formula.api as smf"
   ]
  },
  {
   "cell_type": "code",
   "execution_count": 2,
   "metadata": {},
   "outputs": [
    {
     "data": {
      "text/html": [
       "<div>\n",
       "<style scoped>\n",
       "    .dataframe tbody tr th:only-of-type {\n",
       "        vertical-align: middle;\n",
       "    }\n",
       "\n",
       "    .dataframe tbody tr th {\n",
       "        vertical-align: top;\n",
       "    }\n",
       "\n",
       "    .dataframe thead th {\n",
       "        text-align: right;\n",
       "    }\n",
       "</style>\n",
       "<table border=\"1\" class=\"dataframe\">\n",
       "  <thead>\n",
       "    <tr style=\"text-align: right;\">\n",
       "      <th></th>\n",
       "      <th>sex</th>\n",
       "      <th>sbp</th>\n",
       "      <th>dbp</th>\n",
       "      <th>scl</th>\n",
       "      <th>age</th>\n",
       "      <th>bmi</th>\n",
       "      <th>id</th>\n",
       "      <th>obese</th>\n",
       "    </tr>\n",
       "  </thead>\n",
       "  <tbody>\n",
       "    <tr>\n",
       "      <th>0</th>\n",
       "      <td>Men</td>\n",
       "      <td>108</td>\n",
       "      <td>78</td>\n",
       "      <td>115</td>\n",
       "      <td>36</td>\n",
       "      <td>29.0</td>\n",
       "      <td>563</td>\n",
       "      <td>0</td>\n",
       "    </tr>\n",
       "    <tr>\n",
       "      <th>1</th>\n",
       "      <td>Women</td>\n",
       "      <td>110</td>\n",
       "      <td>70</td>\n",
       "      <td>117</td>\n",
       "      <td>42</td>\n",
       "      <td>24.1</td>\n",
       "      <td>4080</td>\n",
       "      <td>0</td>\n",
       "    </tr>\n",
       "    <tr>\n",
       "      <th>2</th>\n",
       "      <td>Women</td>\n",
       "      <td>84</td>\n",
       "      <td>56</td>\n",
       "      <td>118</td>\n",
       "      <td>38</td>\n",
       "      <td>21.1</td>\n",
       "      <td>2264</td>\n",
       "      <td>0</td>\n",
       "    </tr>\n",
       "    <tr>\n",
       "      <th>3</th>\n",
       "      <td>Women</td>\n",
       "      <td>144</td>\n",
       "      <td>80</td>\n",
       "      <td>121</td>\n",
       "      <td>47</td>\n",
       "      <td>25.3</td>\n",
       "      <td>1870</td>\n",
       "      <td>0</td>\n",
       "    </tr>\n",
       "    <tr>\n",
       "      <th>4</th>\n",
       "      <td>Men</td>\n",
       "      <td>122</td>\n",
       "      <td>88</td>\n",
       "      <td>124</td>\n",
       "      <td>60</td>\n",
       "      <td>32.0</td>\n",
       "      <td>3137</td>\n",
       "      <td>1</td>\n",
       "    </tr>\n",
       "  </tbody>\n",
       "</table>\n",
       "</div>"
      ],
      "text/plain": [
       "     sex  sbp  dbp  scl  age   bmi    id  obese\n",
       "0    Men  108   78  115   36  29.0   563      0\n",
       "1  Women  110   70  117   42  24.1  4080      0\n",
       "2  Women   84   56  118   38  21.1  2264      0\n",
       "3  Women  144   80  121   47  25.3  1870      0\n",
       "4    Men  122   88  124   60  32.0  3137      1"
      ]
     },
     "execution_count": 2,
     "metadata": {},
     "output_type": "execute_result"
    }
   ],
   "source": [
    "df = pd.read_csv('Obese.csv')\n",
    "df.head()"
   ]
  },
  {
   "cell_type": "code",
   "execution_count": 3,
   "metadata": {},
   "outputs": [],
   "source": [
    "formula = 'obese ~ sex + sbp + dbp + scl + age'"
   ]
  },
  {
   "cell_type": "code",
   "execution_count": 6,
   "metadata": {},
   "outputs": [
    {
     "data": {
      "text/html": [
       "<table class=\"simpletable\">\n",
       "<caption>Generalized Linear Model Regression Results</caption>\n",
       "<tr>\n",
       "  <th>Dep. Variable:</th>         <td>obese</td>      <th>  No. Observations:  </th>  <td>  4658</td> \n",
       "</tr>\n",
       "<tr>\n",
       "  <th>Model:</th>                  <td>GLM</td>       <th>  Df Residuals:      </th>  <td>  4652</td> \n",
       "</tr>\n",
       "<tr>\n",
       "  <th>Model Family:</th>        <td>Binomial</td>     <th>  Df Model:          </th>  <td>     5</td> \n",
       "</tr>\n",
       "<tr>\n",
       "  <th>Link Function:</th>         <td>logit</td>      <th>  Scale:             </th> <td>  1.0000</td>\n",
       "</tr>\n",
       "<tr>\n",
       "  <th>Method:</th>                <td>IRLS</td>       <th>  Log-Likelihood:    </th> <td> -1635.3</td>\n",
       "</tr>\n",
       "<tr>\n",
       "  <th>Date:</th>            <td>Sun, 29 Nov 2020</td> <th>  Deviance:          </th> <td>  3270.5</td>\n",
       "</tr>\n",
       "<tr>\n",
       "  <th>Time:</th>                <td>11:54:22</td>     <th>  Pearson chi2:      </th> <td>4.44e+03</td>\n",
       "</tr>\n",
       "<tr>\n",
       "  <th>No. Iterations:</th>          <td>5</td>        <th>                     </th>     <td> </td>   \n",
       "</tr>\n",
       "<tr>\n",
       "  <th>Covariance Type:</th>     <td>nonrobust</td>    <th>                     </th>     <td> </td>   \n",
       "</tr>\n",
       "</table>\n",
       "<table class=\"simpletable\">\n",
       "<tr>\n",
       "        <td></td>          <th>coef</th>     <th>std err</th>      <th>z</th>      <th>P>|z|</th>  <th>[0.025</th>    <th>0.975]</th>  \n",
       "</tr>\n",
       "<tr>\n",
       "  <th>Intercept</th>    <td>   -7.4870</td> <td>    0.397</td> <td>  -18.846</td> <td> 0.000</td> <td>   -8.266</td> <td>   -6.708</td>\n",
       "</tr>\n",
       "<tr>\n",
       "  <th>sex[T.Women]</th> <td>    0.3214</td> <td>    0.095</td> <td>    3.382</td> <td> 0.001</td> <td>    0.135</td> <td>    0.508</td>\n",
       "</tr>\n",
       "<tr>\n",
       "  <th>sbp</th>          <td>    0.0023</td> <td>    0.003</td> <td>    0.737</td> <td> 0.461</td> <td>   -0.004</td> <td>    0.009</td>\n",
       "</tr>\n",
       "<tr>\n",
       "  <th>dbp</th>          <td>    0.0479</td> <td>    0.006</td> <td>    8.366</td> <td> 0.000</td> <td>    0.037</td> <td>    0.059</td>\n",
       "</tr>\n",
       "<tr>\n",
       "  <th>scl</th>          <td>    0.0022</td> <td>    0.001</td> <td>    2.116</td> <td> 0.034</td> <td>    0.000</td> <td>    0.004</td>\n",
       "</tr>\n",
       "<tr>\n",
       "  <th>age</th>          <td>    0.0097</td> <td>    0.006</td> <td>    1.577</td> <td> 0.115</td> <td>   -0.002</td> <td>    0.022</td>\n",
       "</tr>\n",
       "</table>"
      ],
      "text/plain": [
       "<class 'statsmodels.iolib.summary.Summary'>\n",
       "\"\"\"\n",
       "                 Generalized Linear Model Regression Results                  \n",
       "==============================================================================\n",
       "Dep. Variable:                  obese   No. Observations:                 4658\n",
       "Model:                            GLM   Df Residuals:                     4652\n",
       "Model Family:                Binomial   Df Model:                            5\n",
       "Link Function:                  logit   Scale:                          1.0000\n",
       "Method:                          IRLS   Log-Likelihood:                -1635.3\n",
       "Date:                Sun, 29 Nov 2020   Deviance:                       3270.5\n",
       "Time:                        11:54:22   Pearson chi2:                 4.44e+03\n",
       "No. Iterations:                     5                                         \n",
       "Covariance Type:            nonrobust                                         \n",
       "================================================================================\n",
       "                   coef    std err          z      P>|z|      [0.025      0.975]\n",
       "--------------------------------------------------------------------------------\n",
       "Intercept       -7.4870      0.397    -18.846      0.000      -8.266      -6.708\n",
       "sex[T.Women]     0.3214      0.095      3.382      0.001       0.135       0.508\n",
       "sbp              0.0023      0.003      0.737      0.461      -0.004       0.009\n",
       "dbp              0.0479      0.006      8.366      0.000       0.037       0.059\n",
       "scl              0.0022      0.001      2.116      0.034       0.000       0.004\n",
       "age              0.0097      0.006      1.577      0.115      -0.002       0.022\n",
       "================================================================================\n",
       "\"\"\""
      ]
     },
     "execution_count": 6,
     "metadata": {},
     "output_type": "execute_result"
    }
   ],
   "source": [
    "model = smf.glm(formula = formula, data=df, family=sm.families.Binomial()).fit()\n",
    "model.summary()"
   ]
  },
  {
   "cell_type": "code",
   "execution_count": 7,
   "metadata": {},
   "outputs": [
    {
     "name": "stdout",
     "output_type": "stream",
     "text": [
      "[0.05197841 0.05225959 0.02495603 0.09258168 0.10524441 0.05055901\n",
      " 0.05222959 0.14951407 0.1490204  0.06197297]\n"
     ]
    }
   ],
   "source": [
    "predictions = model.predict()\n",
    "print(predictions[0:10])"
   ]
  },
  {
   "cell_type": "markdown",
   "metadata": {},
   "source": [
    "### Exercise:\n",
    "\n",
    "Read in the KC housing data. \n",
    "\n",
    "\n",
    "Find or construct a binary variable (e.g. \"waterfront\") and perform logistic regression using some predictors you select. \n",
    "Interpret the predictors. What factors make it more/less likely? Practice interpreting the fitted coefficients. \n",
    "\n"
   ]
  },
  {
   "cell_type": "code",
   "execution_count": null,
   "metadata": {},
   "outputs": [],
   "source": []
  }
 ],
 "metadata": {
  "kernelspec": {
   "display_name": "Python 3 (ipykernel)",
   "language": "python",
   "name": "python3"
  },
  "language_info": {
   "codemirror_mode": {
    "name": "ipython",
    "version": 3
   },
   "file_extension": ".py",
   "mimetype": "text/x-python",
   "name": "python",
   "nbconvert_exporter": "python",
   "pygments_lexer": "ipython3",
   "version": "3.11.7"
  }
 },
 "nbformat": 4,
 "nbformat_minor": 4
}
